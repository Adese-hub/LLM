{
 "cells": [
  {
   "cell_type": "markdown",
   "metadata": {},
   "source": [
    "### preprocessing and preparing the text data for machine learning ###\n",
    "\n",
    "Cleaning Text Data: wrote a clean_text function to convert all text to lower case and remove non-alphanumeric characters, which is a standard practice to normalize the text.\n",
    "Text Representation: used TfidfVectorizer to convert the cleaned text data into numerical values, maintaining a limit of 1000 features for efficiency.\n",
    "Data Splitting: partitioned the data into training and testing sets, with 20% reserved for testing to evaluate the model's performance later."
   ]
  },
  {
   "cell_type": "code",
   "execution_count": 3,
   "metadata": {},
   "outputs": [],
   "source": [
    "# Data Pre-processing\n",
    "import pandas as pd\n",
    "import re\n",
    "\n",
    "# Loading the dataset for further processing\n",
    "df = pd.read_csv('/Users/adese/Downloads/Singapore_Airlines_Reviews New.csv')\n",
    "\n",
    "def clean_text(text):\n",
    "    text = text.lower()\n",
    "    text = re.sub(r'[\\t\\n\\r]+', ' ', text)\n",
    "    text = re.sub(r'[^a-zA-Z0-9\\s]', '', text)\n",
    "    return text\n",
    "\n",
    "df['cleaned_text'] = df['text'].apply(clean_text)\n"
   ]
  },
  {
   "cell_type": "code",
   "execution_count": 5,
   "metadata": {},
   "outputs": [],
   "source": [
    "# Text-Representation for the model\n",
    "from sklearn.feature_extraction.text import TfidfVectorizer\n",
    "from sklearn.model_selection import train_test_split\n",
    "\n",
    "vectorizer = TfidfVectorizer(max_features=1000)\n",
    "\n",
    "# Spliting the data into training and testing sets to prevent data leaks \n",
    "X_train, X_test, y_train, y_test = train_test_split(df['cleaned_text'], df['rating'], test_size=0.2, random_state=42)\n",
    "\n",
    "# Vectorizing the text\n",
    "X_train_vec = vectorizer.fit_transform(X_train)\n",
    "X_test_vec = vectorizer.transform(X_test)\n"
   ]
  }
 ],
 "metadata": {
  "kernelspec": {
   "display_name": "firstEnv",
   "language": "python",
   "name": "firstenv"
  },
  "language_info": {
   "codemirror_mode": {
    "name": "ipython",
    "version": 3
   },
   "file_extension": ".py",
   "mimetype": "text/x-python",
   "name": "python",
   "nbconvert_exporter": "python",
   "pygments_lexer": "ipython3",
   "version": "3.10.13"
  },
  "orig_nbformat": 4
 },
 "nbformat": 4,
 "nbformat_minor": 2
}
