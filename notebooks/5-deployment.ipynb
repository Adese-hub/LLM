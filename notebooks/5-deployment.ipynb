{
 "cells": [
  {
   "cell_type": "markdown",
   "metadata": {},
   "source": [
    "### Model Deployment and Evaluation\n",
    "\n",
    "Deploying the optimized model. saved the best-performing model and then loaded it to assess its accuracy on the test set. This evaluation was crucial to confirm that the model was robust and performed well on unseen data.\n",
    "Please note that steps from notebook 3 & 4 was repeated here as I have some compatibility issues with my MAC. "
   ]
  },
  {
   "cell_type": "code",
   "execution_count": 3,
   "metadata": {},
   "outputs": [
    {
     "name": "stdout",
     "output_type": "stream",
     "text": [
      "<class 'pandas.core.frame.DataFrame'>\n",
      "RangeIndex: 10000 entries, 0 to 9999\n",
      "Data columns (total 2 columns):\n",
      " #   Column  Non-Null Count  Dtype \n",
      "---  ------  --------------  ----- \n",
      " 0   rating  10000 non-null  int64 \n",
      " 1   text    10000 non-null  object\n",
      "dtypes: int64(1), object(1)\n",
      "memory usage: 156.4+ KB\n",
      "None\n",
      "             rating\n",
      "count  10000.000000\n",
      "mean       4.015800\n",
      "std        1.346006\n",
      "min        1.000000\n",
      "25%        3.000000\n",
      "50%        5.000000\n",
      "75%        5.000000\n",
      "max        5.000000\n"
     ]
    },
    {
     "data": {
      "image/png": "[encoded data removed]",
      "text/plain": [
       "<Figure size 640x480 with 1 Axes>"
      ]
     },
     "metadata": {},
     "output_type": "display_data"
    },
    {
     "data": {
      "image/png": "[encoded data removed]",
      "text/plain": [
       "<Figure size 640x480 with 1 Axes>"
      ]
     },
     "metadata": {},
     "output_type": "display_data"
    },
    {
     "name": "stdout",
     "output_type": "stream",
     "text": [
      "Fitting 3 folds for each of 12 candidates, totalling 36 fits\n",
      "[CV] END ...............................C=0.1, max_iter=3000; total time=   0.4s\n",
      "[CV] END ...............................C=0.1, max_iter=1000; total time=   0.4s\n",
      "[CV] END ...............................C=0.1, max_iter=5000; total time=   0.4s\n",
      "[CV] END ...............................C=0.1, max_iter=3000; total time=   0.4s\n",
      "[CV] END ...............................C=0.1, max_iter=1000; total time=   0.4s\n",
      "[CV] END ...............................C=0.1, max_iter=1000; total time=   0.4s\n",
      "[CV] END ...............................C=0.1, max_iter=5000; total time=   0.4s\n",
      "[CV] END ...............................C=0.1, max_iter=3000; total time=   0.4s\n",
      "[CV] END ...............................C=0.1, max_iter=5000; total time=   0.4s\n",
      "[CV] END .................................C=1, max_iter=3000; total time=   0.7s\n",
      "[CV] END .................................C=1, max_iter=1000; total time=   0.8s\n",
      "[CV] END .................................C=1, max_iter=1000; total time=   0.8s\n",
      "[CV] END .................................C=1, max_iter=3000; total time=   0.8s\n",
      "[CV] END .................................C=1, max_iter=1000; total time=   0.8s\n",
      "[CV] END .................................C=1, max_iter=5000; total time=   0.8s\n",
      "[CV] END .................................C=1, max_iter=3000; total time=   0.8s\n",
      "[CV] END .................................C=1, max_iter=5000; total time=   0.8s\n",
      "[CV] END .................................C=1, max_iter=5000; total time=   0.8s\n",
      "[CV] END ................................C=10, max_iter=1000; total time=   1.8s\n",
      "[CV] END ................................C=10, max_iter=1000; total time=   1.8s\n",
      "[CV] END ................................C=10, max_iter=3000; total time=   1.8s\n",
      "[CV] END ................................C=10, max_iter=3000; total time=   1.8s\n",
      "[CV] END ................................C=10, max_iter=1000; total time=   2.0s\n",
      "[CV] END ................................C=10, max_iter=3000; total time=   1.9s\n",
      "[CV] END ................................C=10, max_iter=5000; total time=   1.8s\n",
      "[CV] END ................................C=10, max_iter=5000; total time=   1.8s\n",
      "[CV] END ................................C=10, max_iter=5000; total time=   1.9s\n",
      "[CV] END ...............................C=100, max_iter=1000; total time=   2.5s\n",
      "[CV] END ...............................C=100, max_iter=3000; total time=   2.6s\n",
      "[CV] END ...............................C=100, max_iter=1000; total time=   3.5s\n",
      "[CV] END ...............................C=100, max_iter=3000; total time=   3.6s\n",
      "[CV] END ...............................C=100, max_iter=1000; total time=   3.9s\n",
      "[CV] END ...............................C=100, max_iter=3000; total time=   3.9s\n",
      "[CV] END ...............................C=100, max_iter=5000; total time=   3.7s\n",
      "[CV] END ...............................C=100, max_iter=5000; total time=   2.2s\n",
      "[CV] END ...............................C=100, max_iter=5000; total time=   2.9s\n",
      "Best parameters: {'C': 1, 'max_iter': 1000}\n",
      "0.6605\n"
     ]
    }
   ],
   "source": [
    "import pandas as pd\n",
    "import matplotlib.pyplot as plt\n",
    "import seaborn as sns\n",
    "import re\n",
    "from sklearn.model_selection import train_test_split\n",
    "from sklearn.feature_extraction.text import TfidfVectorizer\n",
    "from sklearn.linear_model import LogisticRegression\n",
    "from sklearn.metrics import classification_report, confusion_matrix\n",
    "\n",
    "reviews_df = pd.read_csv('/Users/adese/Downloads/Singapore_Airlines_Reviews New.csv')\n",
    "df = reviews_df\n",
    "\n",
    "# Basic info about the dataset\n",
    "print(df.info())\n",
    "print(df.describe())\n",
    "\n",
    "# Distribution of ratings\n",
    "sns.countplot(x='rating', data=df)\n",
    "plt.show()\n",
    "\n",
    "# Word count distribution in the reviews\n",
    "df['word_count'] = df['text'].apply(lambda x: len(x.split()))\n",
    "sns.histplot(x='word_count', data=df)\n",
    "plt.show()\n",
    "\n",
    "# Data Pre-processing\n",
    "def clean_text(text):\n",
    "    text = text.lower()\n",
    "    text = re.sub(r'[\\t\\n\\r]+', ' ', text)\n",
    "    text = re.sub(r'[^a-zA-Z0-9\\s]', '', text)\n",
    "    return text\n",
    "\n",
    "df['cleaned_text'] = df['text'].apply(clean_text)\n",
    "\n",
    "# Splitting the data into training and testing sets\n",
    "X_train, X_test, y_train, y_test = train_test_split(df['cleaned_text'], df['rating'], test_size=0.2, random_state=42)\n",
    "\n",
    "# Vectorizing text\n",
    "vectorizer = TfidfVectorizer(max_features=1000)\n",
    "X_train_vec = vectorizer.fit_transform(X_train)\n",
    "X_test_vec = vectorizer.transform(X_test)\n",
    "\n",
    "# Pre-Trained Model\n",
    "from sklearn.linear_model import LogisticRegression\n",
    "\n",
    "# Training a Logistic Regression model\n",
    "model = LogisticRegression(max_iter=1000)\n",
    "model.fit(X_train_vec, y_train)\n",
    "\n",
    "# Optimization and Hyperparameter Tuning\n",
    "from sklearn.model_selection import GridSearchCV\n",
    "\n",
    "# Defining the parameter grid\n",
    "param_grid = {'C': [0.1, 1, 10, 100], 'max_iter': [1000, 3000, 5000]}\n",
    "\n",
    "# Instantiating the grid search model\n",
    "grid_search = GridSearchCV(estimator=LogisticRegression(), param_grid=param_grid, cv=3, n_jobs=-1, verbose=2)\n",
    "\n",
    "# Fit the grid search to the data\n",
    "grid_search.fit(X_train_vec, y_train)\n",
    "print(f\"Best parameters: {grid_search.best_params_}\")\n",
    "\n",
    "# Deployment\n",
    "import joblib\n",
    "\n",
    "# Saving the model \n",
    "filename = 'finalized_model.sav'\n",
    "joblib.dump(grid_search.best_estimator_, filename)\n",
    "\n",
    "# Loading the model for deployment\n",
    "loaded_model = joblib.load(filename)\n",
    "result = loaded_model.score(X_test_vec, y_test)\n",
    "print(result)\n"
   ]
  }
 ],
 "metadata": {
  "kernelspec": {
   "display_name": "firstEnv",
   "language": "python",
   "name": "firstenv"
  },
  "language_info": {
   "codemirror_mode": {
    "name": "ipython",
    "version": 3
   },
   "file_extension": ".py",
   "mimetype": "text/x-python",
   "name": "python",
   "nbconvert_exporter": "python",
   "pygments_lexer": "ipython3",
   "version": "3.10.13"
  },
  "orig_nbformat": 4
 },
 "nbformat": 4,
 "nbformat_minor": 2
}
